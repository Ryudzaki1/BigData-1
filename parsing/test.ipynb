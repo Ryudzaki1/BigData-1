{
 "cells": [
  {
   "cell_type": "code",
   "execution_count": 1,
   "id": "5c51c0cd-6389-436e-8b88-e897a4daa80f",
   "metadata": {},
   "outputs": [],
   "source": [
    "import requests\n",
    "from bs4 import BeautifulSoup\n",
    "import pandas as pd\n",
    "import psycopg2\n",
    "from datetime import datetime"
   ]
  },
  {
   "cell_type": "code",
   "execution_count": 2,
   "id": "26fc5726-1250-40a3-b41e-d8455188058e",
   "metadata": {},
   "outputs": [
    {
     "name": "stdout",
     "output_type": "stream",
     "text": [
      "200\n"
     ]
    }
   ],
   "source": [
    "response = requests.get('https://ru.investing.com/crypto')\n",
    "print(response.status_code)"
   ]
  },
  {
   "cell_type": "code",
   "execution_count": 3,
   "id": "0e1d416c-e710-46e5-b487-729144661783",
   "metadata": {},
   "outputs": [],
   "source": [
    "html_content = response.text\n",
    "\n",
    "soup = BeautifulSoup(html_content, 'lxml')"
   ]
  },
  {
   "cell_type": "code",
   "execution_count": 4,
   "id": "4a708832-a214-46ed-b2c4-5553b78c1210",
   "metadata": {},
   "outputs": [],
   "source": [
    "tbody = soup.find(\"tbody\", class_=\"datatable-v2_body__8TXQk\").find_all(\"tr\")\n",
    "list_temp = []\n",
    "for row in tbody:\n",
    "    temp = row.get_text(\"|\", strip=True).split('|')\n",
    "    temp[4] = f'{temp[4]}%'\n",
    "    temp = temp[:3] + temp[6:]\n",
    "    list_temp.append(temp)\n",
    "list_btc = list_temp[0]"
   ]
  },
  {
   "cell_type": "code",
   "execution_count": 5,
   "id": "6f79e2db-8ce6-49a1-948c-d1a87df98cae",
   "metadata": {},
   "outputs": [],
   "source": [
    "conn = psycopg2.connect(\n",
    "    dbname='cripto',\n",
    "    user='postgres',\n",
    "    password='postgres',  \n",
    "    host='postgres', \n",
    "    port=5432\n",
    ")\n"
   ]
  },
  {
   "cell_type": "code",
   "execution_count": 6,
   "id": "d1bf3c3d-60de-45ab-9655-54492dabdbf9",
   "metadata": {},
   "outputs": [],
   "source": [
    "cur = conn.cursor()"
   ]
  },
  {
   "cell_type": "code",
   "execution_count": 7,
   "id": "e2b2128e-6146-4a9c-996c-8a8ae2d64449",
   "metadata": {},
   "outputs": [],
   "source": [
    "current_date = datetime.now()\n",
    "current_name = list_btc[0]\n",
    "current_tag = list_btc[1]\n",
    "current_price = float(list_btc[2].replace('.', '').replace(',', '.'))\n",
    "current_dif_1d = float(list_btc[3].replace('.', '').replace(',', '.').replace('%', ''))\n",
    "current_dif_7d = float(list_btc[4].replace('.', '').replace(',', '.').replace('%', ''))\n",
    "current_capital = int(float(list_btc[5].replace('$', '').replace(',', '.').replace('T', '')) * 1000000000000)"
   ]
  },
  {
   "cell_type": "code",
   "execution_count": 8,
   "id": "3056396d-c76f-4ab4-8a88-5fa2225bf083",
   "metadata": {},
   "outputs": [
    {
     "name": "stdout",
     "output_type": "stream",
     "text": [
      "Запись успешно добавлена!\n"
     ]
    }
   ],
   "source": [
    "try:\n",
    "    insert_sql = '''\n",
    "    INSERT INTO btc_price (date, name, tag, price, dif_1d, dif_7d, capital) \n",
    "    VALUES (%s, %s, %s, %s, %s, %s, %s)\n",
    "    '''\n",
    "    cur.execute(insert_sql, (current_date, current_name, current_tag, current_price, current_dif_1d, current_dif_7d, current_capital))\n",
    "    conn.commit()\n",
    "    print('Запись успешно добавлена!')\n",
    "except Exception as e:\n",
    "    print('Ошибка:', e)\n"
   ]
  },
  {
   "cell_type": "code",
   "execution_count": 9,
   "id": "f4f619dd-8fb1-4639-ae2b-c9cd314ad1de",
   "metadata": {},
   "outputs": [],
   "source": [
    "#conn.rollback()"
   ]
  },
  {
   "cell_type": "code",
   "execution_count": 10,
   "id": "b5573d57-f69b-4e0b-8e59-e4c38f36df46",
   "metadata": {},
   "outputs": [],
   "source": [
    "cur.close()\n",
    "conn.close()"
   ]
  },
  {
   "cell_type": "code",
   "execution_count": 11,
   "id": "41438655-4c59-45ee-aebb-f5d7cb1b9647",
   "metadata": {},
   "outputs": [
    {
     "data": {
      "text/plain": [
       "['Биткоин', 'BTC', '97.425,7', '-0,87%', '-6,28%', '$1,93T']"
      ]
     },
     "execution_count": 11,
     "metadata": {},
     "output_type": "execute_result"
    }
   ],
   "source": [
    "list_btc"
   ]
  }
 ],
 "metadata": {
  "kernelspec": {
   "display_name": "Python 3 (ipykernel)",
   "language": "python",
   "name": "python3"
  },
  "language_info": {
   "codemirror_mode": {
    "name": "ipython",
    "version": 3
   },
   "file_extension": ".py",
   "mimetype": "text/x-python",
   "name": "python",
   "nbconvert_exporter": "python",
   "pygments_lexer": "ipython3",
   "version": "3.12.8"
  }
 },
 "nbformat": 4,
 "nbformat_minor": 5
}
